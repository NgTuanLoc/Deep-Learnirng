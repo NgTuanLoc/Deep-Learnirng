{
 "cells": [
  {
   "cell_type": "code",
   "execution_count": 2,
   "metadata": {
    "id": "5SuY200yi3cV"
   },
   "outputs": [],
   "source": [
    "from keras.layers import Input, Conv2D, Dense, MaxPooling2D, Flatten\n",
    "from keras import Model\n",
    "\n",
    "class LeNet:\n",
    "  def __init__(self):\n",
    "    self.model = None\n",
    "\n",
    "  # Build architecture of the network\n",
    "  def build(self, input_dim):\n",
    "    input = Input(shape=input_dim)\n",
    "\n",
    "    # Convolution block\n",
    "    C1 = Conv2D(6, (3, 3), padding=\"same\", activation='relu', use_bias=True)(input)\n",
    "    S2 = MaxPooling2D(pool_size=(2, 2), strides=2, padding=\"same\")(C1)\n",
    "\n",
    "    C3 = Conv2D(16, (5, 5), padding=\"same\", activation='relu', use_bias=True)(S2)\n",
    "    S4 = MaxPooling2D(pool_size=(2, 2), strides=2, padding=\"same\")(C3)\n",
    "\n",
    "    C4 = Conv2D(16, (5, 5), padding=\"same\", activation='relu', use_bias=True)(S4)\n",
    "    S5 = MaxPooling2D(pool_size=(2, 2), strides=2, padding=\"same\")(C4)\n",
    "\n",
    "    # Fully Connected block\n",
    "    flat = Flatten()(S5) # flatten\n",
    "    FC5 = Dense(120, activation='relu', use_bias=True)(flat) # fully connected layer\n",
    "    FC6 = Dense(84, activation='relu', use_bias=True)(FC5)   # fully conected layer\n",
    "    output = Dense(10, activation='softmax', use_bias=True)(FC6)\n",
    "\n",
    "    self.model = Model(input, output)\n",
    "    self.model.compile(optimizer=\"sgd\", loss='categorical_crossentropy', metrics=['accuracy'])\n",
    "  \n",
    "  # Train the given architecture with data\n",
    "  def train(self, x_train, y_train):\n",
    "    history = self.model.fit(x_train, y_train, batch_size=128, epochs=10, validation_split=0.2)\n",
    "    return history\n",
    "\n",
    "  def predict(self, x_test):\n",
    "    return self.model.predict(x_test)\n",
    "\n",
    "  def summary(self):\n",
    "    self.model.summary()\n",
    "\n",
    "  def load(self, model_file):\n",
    "    self.model = load_model(model_file)\n",
    "\n",
    "  def save(self, model_file):\n",
    "    self.model.save(model_file)"
   ]
  },
  {
   "cell_type": "code",
   "execution_count": 3,
   "metadata": {
    "colab": {
     "base_uri": "https://localhost:8080/"
    },
    "id": "r7uYRV1UseJm",
    "outputId": "cf3d4173-6f94-4ad5-d3cd-8961b51ea399"
   },
   "outputs": [
    {
     "name": "stdout",
     "output_type": "stream",
     "text": [
      "Downloading data from https://storage.googleapis.com/tensorflow/tf-keras-datasets/mnist.npz\n",
      "11493376/11490434 [==============================] - 0s 0us/step\n"
     ]
    }
   ],
   "source": [
    "# Prepare data\n",
    "from keras.datasets import mnist\n",
    "import numpy as np\n",
    "\n",
    "(x_train, y_train), (x_test, y_test) = mnist.load_data()\n",
    "\n",
    "# Normalize data\n",
    "x_train_norm = x_train / 255.0 # Attention here: use 255.0 instead of 255\n",
    "x_test_norm = x_test / 255.0 \n",
    "\n",
    "# Convert to one-hot vector\n",
    "def onehot(y):\n",
    "  oh = np.zeros((y.shape[0], 10))\n",
    "  oh[np.arange(y.shape[0]), y] = 1\n",
    "  return oh\n",
    "\n",
    "y_train_oh = onehot(y_train)\n",
    "y_test_oh = onehot(y_test)"
   ]
  },
  {
   "cell_type": "code",
   "execution_count": 4,
   "metadata": {
    "colab": {
     "base_uri": "https://localhost:8080/",
     "height": 299
    },
    "id": "E3hDNIo5ucNU",
    "outputId": "d7c18a71-fbd0-4fe3-8880-035e05de01fa"
   },
   "outputs": [
    {
     "name": "stdout",
     "output_type": "stream",
     "text": [
      "[1. 0. 0. 0. 0. 0. 0. 0. 0. 0.]\n",
      "Size of input:  (60000, 28, 28)\n"
     ]
    },
    {
     "data": {
      "image/png": "[encoded data removed]",
      "text/plain": [
       "<Figure size 432x288 with 1 Axes>"
      ]
     },
     "metadata": {
      "needs_background": "light",
      "tags": []
     },
     "output_type": "display_data"
    }
   ],
   "source": [
    "import matplotlib.pyplot as plt\n",
    "\n",
    "index = 1000\n",
    "print(y_train_oh[index])\n",
    "plt.imshow(x_train_norm[index])\n",
    "print('Size of input: ', x_train_norm.shape)"
   ]
  },
  {
   "cell_type": "code",
   "execution_count": 5,
   "metadata": {
    "colab": {
     "base_uri": "https://localhost:8080/"
    },
    "id": "G7KnJSzrt6uH",
    "outputId": "58b79e6d-1de0-49cf-a0f3-e215e1b71ffe"
   },
   "outputs": [
    {
     "name": "stdout",
     "output_type": "stream",
     "text": [
      "Model: \"model\"\n",
      "_________________________________________________________________\n",
      "Layer (type)                 Output Shape              Param #   \n",
      "=================================================================\n",
      "input_1 (InputLayer)         [(None, 28, 28, 1)]       0         \n",
      "_________________________________________________________________\n",
      "conv2d (Conv2D)              (None, 28, 28, 6)         60        \n",
      "_________________________________________________________________\n",
      "max_pooling2d (MaxPooling2D) (None, 14, 14, 6)         0         \n",
      "_________________________________________________________________\n",
      "conv2d_1 (Conv2D)            (None, 14, 14, 16)        2416      \n",
      "_________________________________________________________________\n",
      "max_pooling2d_1 (MaxPooling2 (None, 7, 7, 16)          0         \n",
      "_________________________________________________________________\n",
      "conv2d_2 (Conv2D)            (None, 7, 7, 16)          6416      \n",
      "_________________________________________________________________\n",
      "max_pooling2d_2 (MaxPooling2 (None, 4, 4, 16)          0         \n",
      "_________________________________________________________________\n",
      "flatten (Flatten)            (None, 256)               0         \n",
      "_________________________________________________________________\n",
      "dense (Dense)                (None, 120)               30840     \n",
      "_________________________________________________________________\n",
      "dense_1 (Dense)              (None, 84)                10164     \n",
      "_________________________________________________________________\n",
      "dense_2 (Dense)              (None, 10)                850       \n",
      "=================================================================\n",
      "Total params: 50,746\n",
      "Trainable params: 50,746\n",
      "Non-trainable params: 0\n",
      "_________________________________________________________________\n",
      "Epoch 1/10\n",
      "375/375 [==============================] - 35s 6ms/step - loss: 2.1460 - accuracy: 0.2581 - val_loss: 0.5839 - val_accuracy: 0.8180\n",
      "Epoch 2/10\n",
      "375/375 [==============================] - 2s 5ms/step - loss: 0.5339 - accuracy: 0.8349 - val_loss: 0.2672 - val_accuracy: 0.9189\n",
      "Epoch 3/10\n",
      "375/375 [==============================] - 2s 5ms/step - loss: 0.2658 - accuracy: 0.9170 - val_loss: 0.1919 - val_accuracy: 0.9428\n",
      "Epoch 4/10\n",
      "375/375 [==============================] - 2s 5ms/step - loss: 0.1990 - accuracy: 0.9377 - val_loss: 0.1587 - val_accuracy: 0.9514\n",
      "Epoch 5/10\n",
      "375/375 [==============================] - 2s 5ms/step - loss: 0.1601 - accuracy: 0.9505 - val_loss: 0.1511 - val_accuracy: 0.9531\n",
      "Epoch 6/10\n",
      "375/375 [==============================] - 2s 5ms/step - loss: 0.1312 - accuracy: 0.9584 - val_loss: 0.1359 - val_accuracy: 0.9582\n",
      "Epoch 7/10\n",
      "375/375 [==============================] - 2s 5ms/step - loss: 0.1172 - accuracy: 0.9640 - val_loss: 0.1159 - val_accuracy: 0.9667\n",
      "Epoch 8/10\n",
      "375/375 [==============================] - 2s 5ms/step - loss: 0.1108 - accuracy: 0.9659 - val_loss: 0.1088 - val_accuracy: 0.9684\n",
      "Epoch 9/10\n",
      "375/375 [==============================] - 2s 5ms/step - loss: 0.0953 - accuracy: 0.9710 - val_loss: 0.1016 - val_accuracy: 0.9697\n",
      "Epoch 10/10\n",
      "375/375 [==============================] - 2s 5ms/step - loss: 0.0863 - accuracy: 0.9729 - val_loss: 0.0940 - val_accuracy: 0.9714\n"
     ]
    }
   ],
   "source": [
    "leNet = LeNet()\n",
    "leNet.build((28, 28, 1))\n",
    "leNet.summary()\n",
    "hist = leNet.train(x_train_norm, y_train_oh)"
   ]
  },
  {
   "cell_type": "code",
   "execution_count": 6,
   "metadata": {
    "colab": {
     "base_uri": "https://localhost:8080/",
     "height": 279
    },
    "id": "RlijsXwbuGyM",
    "outputId": "9cf76ec8-df88-4cc9-ac97-b583e6a8e1fe"
   },
   "outputs": [
    {
     "data": {
      "image/png": "[encoded data removed]",
      "text/plain": [
       "<Figure size 432x288 with 1 Axes>"
      ]
     },
     "metadata": {
      "needs_background": "light",
      "tags": []
     },
     "output_type": "display_data"
    }
   ],
   "source": [
    "plt.plot(hist.history['loss'])\n",
    "plt.plot(hist.history['val_loss'])\n",
    "plt.legend(['train_loss', 'val_loss'])\n",
    "plt.xlabel('#epochs')\n",
    "plt.ylabel('loss')\n",
    "plt.show()"
   ]
  },
  {
   "cell_type": "code",
   "execution_count": 7,
   "metadata": {
    "colab": {
     "base_uri": "https://localhost:8080/",
     "height": 299
    },
    "id": "uGGLbfzKzKu_",
    "outputId": "2e7e4a75-0525-498d-987a-880f218073d7"
   },
   "outputs": [
    {
     "name": "stdout",
     "output_type": "stream",
     "text": [
      "Predicted label:  0\n"
     ]
    },
    {
     "data": {
      "text/plain": [
       "<matplotlib.image.AxesImage at 0x7f76bed99b90>"
      ]
     },
     "execution_count": 7,
     "metadata": {
      "tags": []
     },
     "output_type": "execute_result"
    },
    {
     "data": {
      "image/png": "[encoded data removed]",
      "text/plain": [
       "<Figure size 432x288 with 1 Axes>"
      ]
     },
     "metadata": {
      "needs_background": "light",
      "tags": []
     },
     "output_type": "display_data"
    }
   ],
   "source": [
    "pred = leNet.predict(x_test_norm)\n",
    "index = 183\n",
    "print('Predicted label: ', np.argmax(pred[index]))\n",
    "plt.imshow(x_test_norm[index])"
   ]
  }
 ],
 "metadata": {
  "accelerator": "GPU",
  "colab": {
   "collapsed_sections": [],
   "name": "cnn_example.ipynb",
   "provenance": []
  },
  "kernelspec": {
   "display_name": "Python 3",
   "language": "python",
   "name": "python3"
  },
  "language_info": {
   "codemirror_mode": {
    "name": "ipython",
    "version": 3
   },
   "file_extension": ".py",
   "mimetype": "text/x-python",
   "name": "python",
   "nbconvert_exporter": "python",
   "pygments_lexer": "ipython3",
   "version": "3.7.7"
  }
 },
 "nbformat": 4,
 "nbformat_minor": 4
}
